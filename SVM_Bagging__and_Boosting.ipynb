{
  "nbformat": 4,
  "nbformat_minor": 0,
  "metadata": {
    "colab": {
      "provenance": [],
      "authorship_tag": "ABX9TyOJd8DnigKR3u/AcGaRuLp6",
      "include_colab_link": true
    },
    "kernelspec": {
      "name": "python3",
      "display_name": "Python 3"
    },
    "language_info": {
      "name": "python"
    }
  },
  "cells": [
    {
      "cell_type": "markdown",
      "metadata": {
        "id": "view-in-github",
        "colab_type": "text"
      },
      "source": [
        "<a href=\"https://colab.research.google.com/github/Tulipraaj/FoCID-Forecasting_Cryptocurrency_Investment_Decision/blob/main/SVM_Bagging__and_Boosting.ipynb\" target=\"_parent\"><img src=\"https://colab.research.google.com/assets/colab-badge.svg\" alt=\"Open In Colab\"/></a>"
      ]
    },
    {
      "cell_type": "code",
      "execution_count": 15,
      "metadata": {
        "id": "ZbyeZwI-OurX"
      },
      "outputs": [],
      "source": [
        "import pandas as pd\n",
        "import numpy as np\n",
        "import math as m\n",
        "from sklearn.preprocessing import MinMaxScaler\n",
        "from sklearn.metrics import mean_absolute_error\n",
        "from tensorflow.keras.models import Sequential\n",
        "from tensorflow.keras.layers import LSTM, Dense, GRU, Bidirectional\n",
        "from sklearn.model_selection import train_test_split\n",
        "from sklearn.metrics import mean_squared_error ,r2_score\n",
        "from sklearn.model_selection import train_test_split\n",
        "from sklearn.preprocessing import StandardScaler\n",
        "from sklearn.svm import SVR\n",
        "from sklearn.ensemble import BaggingRegressor, GradientBoostingRegressor\n",
        "from sklearn.model_selection import GridSearchCV\n",
        "from sklearn.metrics import mean_squared_error"
      ]
    },
    {
      "cell_type": "code",
      "source": [
        "df = pd.read_csv(\"BTC.csv\")"
      ],
      "metadata": {
        "id": "ZadA_WOAwJ4L"
      },
      "execution_count": 3,
      "outputs": []
    },
    {
      "cell_type": "code",
      "source": [
        "df.head()"
      ],
      "metadata": {
        "colab": {
          "base_uri": "https://localhost:8080/",
          "height": 206
        },
        "id": "5S_JLepswVUS",
        "outputId": "a2813b8d-b977-4c83-9d61-5e416cea964c"
      },
      "execution_count": 4,
      "outputs": [
        {
          "output_type": "execute_result",
          "data": {
            "text/plain": [
              "         date  block_size    difficulty      hashrate    market_cap  \\\n",
              "0  01-01-2018      966169  1.922580e+12  1.500000e+19  2.266610e+11   \n",
              "1  02-01-2018      968332  1.931140e+12  1.600000e+19  2.334150e+11   \n",
              "2  03-01-2018      975882  1.931140e+12  1.490000e+19  2.519290e+11   \n",
              "3  04-01-2018      975713  1.931140e+12  1.640000e+19  2.495520e+11   \n",
              "4  05-01-2018      974894  1.931140e+12  1.500000e+19  2.663230e+11   \n",
              "\n",
              "   mining_profitability  transaction   tweets  price  \n",
              "0                 2.174       241601  62044.0  13523  \n",
              "1                 2.431       340809  77723.0  13924  \n",
              "2                 2.737       395806  79086.0  15027  \n",
              "3                 2.606       424840  74534.0  14883  \n",
              "4                 2.631       342564  76404.0  15881  "
            ],
            "text/html": [
              "\n",
              "  <div id=\"df-a570cdfa-c446-4a4d-aa4d-f10d734c6732\" class=\"colab-df-container\">\n",
              "    <div>\n",
              "<style scoped>\n",
              "    .dataframe tbody tr th:only-of-type {\n",
              "        vertical-align: middle;\n",
              "    }\n",
              "\n",
              "    .dataframe tbody tr th {\n",
              "        vertical-align: top;\n",
              "    }\n",
              "\n",
              "    .dataframe thead th {\n",
              "        text-align: right;\n",
              "    }\n",
              "</style>\n",
              "<table border=\"1\" class=\"dataframe\">\n",
              "  <thead>\n",
              "    <tr style=\"text-align: right;\">\n",
              "      <th></th>\n",
              "      <th>date</th>\n",
              "      <th>block_size</th>\n",
              "      <th>difficulty</th>\n",
              "      <th>hashrate</th>\n",
              "      <th>market_cap</th>\n",
              "      <th>mining_profitability</th>\n",
              "      <th>transaction</th>\n",
              "      <th>tweets</th>\n",
              "      <th>price</th>\n",
              "    </tr>\n",
              "  </thead>\n",
              "  <tbody>\n",
              "    <tr>\n",
              "      <th>0</th>\n",
              "      <td>01-01-2018</td>\n",
              "      <td>966169</td>\n",
              "      <td>1.922580e+12</td>\n",
              "      <td>1.500000e+19</td>\n",
              "      <td>2.266610e+11</td>\n",
              "      <td>2.174</td>\n",
              "      <td>241601</td>\n",
              "      <td>62044.0</td>\n",
              "      <td>13523</td>\n",
              "    </tr>\n",
              "    <tr>\n",
              "      <th>1</th>\n",
              "      <td>02-01-2018</td>\n",
              "      <td>968332</td>\n",
              "      <td>1.931140e+12</td>\n",
              "      <td>1.600000e+19</td>\n",
              "      <td>2.334150e+11</td>\n",
              "      <td>2.431</td>\n",
              "      <td>340809</td>\n",
              "      <td>77723.0</td>\n",
              "      <td>13924</td>\n",
              "    </tr>\n",
              "    <tr>\n",
              "      <th>2</th>\n",
              "      <td>03-01-2018</td>\n",
              "      <td>975882</td>\n",
              "      <td>1.931140e+12</td>\n",
              "      <td>1.490000e+19</td>\n",
              "      <td>2.519290e+11</td>\n",
              "      <td>2.737</td>\n",
              "      <td>395806</td>\n",
              "      <td>79086.0</td>\n",
              "      <td>15027</td>\n",
              "    </tr>\n",
              "    <tr>\n",
              "      <th>3</th>\n",
              "      <td>04-01-2018</td>\n",
              "      <td>975713</td>\n",
              "      <td>1.931140e+12</td>\n",
              "      <td>1.640000e+19</td>\n",
              "      <td>2.495520e+11</td>\n",
              "      <td>2.606</td>\n",
              "      <td>424840</td>\n",
              "      <td>74534.0</td>\n",
              "      <td>14883</td>\n",
              "    </tr>\n",
              "    <tr>\n",
              "      <th>4</th>\n",
              "      <td>05-01-2018</td>\n",
              "      <td>974894</td>\n",
              "      <td>1.931140e+12</td>\n",
              "      <td>1.500000e+19</td>\n",
              "      <td>2.663230e+11</td>\n",
              "      <td>2.631</td>\n",
              "      <td>342564</td>\n",
              "      <td>76404.0</td>\n",
              "      <td>15881</td>\n",
              "    </tr>\n",
              "  </tbody>\n",
              "</table>\n",
              "</div>\n",
              "    <div class=\"colab-df-buttons\">\n",
              "\n",
              "  <div class=\"colab-df-container\">\n",
              "    <button class=\"colab-df-convert\" onclick=\"convertToInteractive('df-a570cdfa-c446-4a4d-aa4d-f10d734c6732')\"\n",
              "            title=\"Convert this dataframe to an interactive table.\"\n",
              "            style=\"display:none;\">\n",
              "\n",
              "  <svg xmlns=\"http://www.w3.org/2000/svg\" height=\"24px\" viewBox=\"0 -960 960 960\">\n",
              "    <path d=\"M120-120v-720h720v720H120Zm60-500h600v-160H180v160Zm220 220h160v-160H400v160Zm0 220h160v-160H400v160ZM180-400h160v-160H180v160Zm440 0h160v-160H620v160ZM180-180h160v-160H180v160Zm440 0h160v-160H620v160Z\"/>\n",
              "  </svg>\n",
              "    </button>\n",
              "\n",
              "  <style>\n",
              "    .colab-df-container {\n",
              "      display:flex;\n",
              "      gap: 12px;\n",
              "    }\n",
              "\n",
              "    .colab-df-convert {\n",
              "      background-color: #E8F0FE;\n",
              "      border: none;\n",
              "      border-radius: 50%;\n",
              "      cursor: pointer;\n",
              "      display: none;\n",
              "      fill: #1967D2;\n",
              "      height: 32px;\n",
              "      padding: 0 0 0 0;\n",
              "      width: 32px;\n",
              "    }\n",
              "\n",
              "    .colab-df-convert:hover {\n",
              "      background-color: #E2EBFA;\n",
              "      box-shadow: 0px 1px 2px rgba(60, 64, 67, 0.3), 0px 1px 3px 1px rgba(60, 64, 67, 0.15);\n",
              "      fill: #174EA6;\n",
              "    }\n",
              "\n",
              "    .colab-df-buttons div {\n",
              "      margin-bottom: 4px;\n",
              "    }\n",
              "\n",
              "    [theme=dark] .colab-df-convert {\n",
              "      background-color: #3B4455;\n",
              "      fill: #D2E3FC;\n",
              "    }\n",
              "\n",
              "    [theme=dark] .colab-df-convert:hover {\n",
              "      background-color: #434B5C;\n",
              "      box-shadow: 0px 1px 3px 1px rgba(0, 0, 0, 0.15);\n",
              "      filter: drop-shadow(0px 1px 2px rgba(0, 0, 0, 0.3));\n",
              "      fill: #FFFFFF;\n",
              "    }\n",
              "  </style>\n",
              "\n",
              "    <script>\n",
              "      const buttonEl =\n",
              "        document.querySelector('#df-a570cdfa-c446-4a4d-aa4d-f10d734c6732 button.colab-df-convert');\n",
              "      buttonEl.style.display =\n",
              "        google.colab.kernel.accessAllowed ? 'block' : 'none';\n",
              "\n",
              "      async function convertToInteractive(key) {\n",
              "        const element = document.querySelector('#df-a570cdfa-c446-4a4d-aa4d-f10d734c6732');\n",
              "        const dataTable =\n",
              "          await google.colab.kernel.invokeFunction('convertToInteractive',\n",
              "                                                    [key], {});\n",
              "        if (!dataTable) return;\n",
              "\n",
              "        const docLinkHtml = 'Like what you see? Visit the ' +\n",
              "          '<a target=\"_blank\" href=https://colab.research.google.com/notebooks/data_table.ipynb>data table notebook</a>'\n",
              "          + ' to learn more about interactive tables.';\n",
              "        element.innerHTML = '';\n",
              "        dataTable['output_type'] = 'display_data';\n",
              "        await google.colab.output.renderOutput(dataTable, element);\n",
              "        const docLink = document.createElement('div');\n",
              "        docLink.innerHTML = docLinkHtml;\n",
              "        element.appendChild(docLink);\n",
              "      }\n",
              "    </script>\n",
              "  </div>\n",
              "\n",
              "\n",
              "<div id=\"df-f8ef5af3-4fb0-4bef-9252-e1b15dbc1e1a\">\n",
              "  <button class=\"colab-df-quickchart\" onclick=\"quickchart('df-f8ef5af3-4fb0-4bef-9252-e1b15dbc1e1a')\"\n",
              "            title=\"Suggest charts.\"\n",
              "            style=\"display:none;\">\n",
              "\n",
              "<svg xmlns=\"http://www.w3.org/2000/svg\" height=\"24px\"viewBox=\"0 0 24 24\"\n",
              "     width=\"24px\">\n",
              "    <g>\n",
              "        <path d=\"M19 3H5c-1.1 0-2 .9-2 2v14c0 1.1.9 2 2 2h14c1.1 0 2-.9 2-2V5c0-1.1-.9-2-2-2zM9 17H7v-7h2v7zm4 0h-2V7h2v10zm4 0h-2v-4h2v4z\"/>\n",
              "    </g>\n",
              "</svg>\n",
              "  </button>\n",
              "\n",
              "<style>\n",
              "  .colab-df-quickchart {\n",
              "    background-color: #E8F0FE;\n",
              "    border: none;\n",
              "    border-radius: 50%;\n",
              "    cursor: pointer;\n",
              "    display: none;\n",
              "    fill: #1967D2;\n",
              "    height: 32px;\n",
              "    padding: 0 0 0 0;\n",
              "    width: 32px;\n",
              "  }\n",
              "\n",
              "  .colab-df-quickchart:hover {\n",
              "    background-color: #E2EBFA;\n",
              "    box-shadow: 0px 1px 2px rgba(60, 64, 67, 0.3), 0px 1px 3px 1px rgba(60, 64, 67, 0.15);\n",
              "    fill: #174EA6;\n",
              "  }\n",
              "\n",
              "  [theme=dark] .colab-df-quickchart {\n",
              "    background-color: #3B4455;\n",
              "    fill: #D2E3FC;\n",
              "  }\n",
              "\n",
              "  [theme=dark] .colab-df-quickchart:hover {\n",
              "    background-color: #434B5C;\n",
              "    box-shadow: 0px 1px 3px 1px rgba(0, 0, 0, 0.15);\n",
              "    filter: drop-shadow(0px 1px 2px rgba(0, 0, 0, 0.3));\n",
              "    fill: #FFFFFF;\n",
              "  }\n",
              "</style>\n",
              "\n",
              "  <script>\n",
              "    async function quickchart(key) {\n",
              "      const charts = await google.colab.kernel.invokeFunction(\n",
              "          'suggestCharts', [key], {});\n",
              "    }\n",
              "    (() => {\n",
              "      let quickchartButtonEl =\n",
              "        document.querySelector('#df-f8ef5af3-4fb0-4bef-9252-e1b15dbc1e1a button');\n",
              "      quickchartButtonEl.style.display =\n",
              "        google.colab.kernel.accessAllowed ? 'block' : 'none';\n",
              "    })();\n",
              "  </script>\n",
              "</div>\n",
              "    </div>\n",
              "  </div>\n"
            ]
          },
          "metadata": {},
          "execution_count": 4
        }
      ]
    },
    {
      "cell_type": "code",
      "source": [
        "\n",
        "df.tail()"
      ],
      "metadata": {
        "colab": {
          "base_uri": "https://localhost:8080/",
          "height": 206
        },
        "id": "Pa7rqiO7L3ay",
        "outputId": "9f95854f-7797-46f5-9c45-731ca25ee052"
      },
      "execution_count": 5,
      "outputs": [
        {
          "output_type": "execute_result",
          "data": {
            "text/plain": [
              "            date  block_size    difficulty      hashrate    market_cap  \\\n",
              "1821  27-12-2022      706675  3.536410e+13  2.120000e+20  3.234390e+11   \n",
              "1822  28-12-2022      542347  3.536410e+13  2.530000e+20  3.202390e+11   \n",
              "1823  29-12-2022      692913  3.536410e+13  2.740000e+20  3.193230e+11   \n",
              "1824  30-12-2022      725552  3.536410e+13  2.540000e+20  3.185390e+11   \n",
              "1825  31-12-2022      573296  3.536410e+13  2.940000e+20  3.189440e+11   \n",
              "\n",
              "      mining_profitability  transaction    tweets  price  \n",
              "1821                0.0589       239244   85632.0  16807  \n",
              "1822                0.0704       272781  107117.0  16640  \n",
              "1823                0.0545       265814   96225.0  16591  \n",
              "1824                0.0658       290857   97462.0  16550  \n",
              "1825                0.0557       242169   77382.0  16570  "
            ],
            "text/html": [
              "\n",
              "  <div id=\"df-2e2cc767-bb88-4ec6-8115-2644bd1d1ba2\" class=\"colab-df-container\">\n",
              "    <div>\n",
              "<style scoped>\n",
              "    .dataframe tbody tr th:only-of-type {\n",
              "        vertical-align: middle;\n",
              "    }\n",
              "\n",
              "    .dataframe tbody tr th {\n",
              "        vertical-align: top;\n",
              "    }\n",
              "\n",
              "    .dataframe thead th {\n",
              "        text-align: right;\n",
              "    }\n",
              "</style>\n",
              "<table border=\"1\" class=\"dataframe\">\n",
              "  <thead>\n",
              "    <tr style=\"text-align: right;\">\n",
              "      <th></th>\n",
              "      <th>date</th>\n",
              "      <th>block_size</th>\n",
              "      <th>difficulty</th>\n",
              "      <th>hashrate</th>\n",
              "      <th>market_cap</th>\n",
              "      <th>mining_profitability</th>\n",
              "      <th>transaction</th>\n",
              "      <th>tweets</th>\n",
              "      <th>price</th>\n",
              "    </tr>\n",
              "  </thead>\n",
              "  <tbody>\n",
              "    <tr>\n",
              "      <th>1821</th>\n",
              "      <td>27-12-2022</td>\n",
              "      <td>706675</td>\n",
              "      <td>3.536410e+13</td>\n",
              "      <td>2.120000e+20</td>\n",
              "      <td>3.234390e+11</td>\n",
              "      <td>0.0589</td>\n",
              "      <td>239244</td>\n",
              "      <td>85632.0</td>\n",
              "      <td>16807</td>\n",
              "    </tr>\n",
              "    <tr>\n",
              "      <th>1822</th>\n",
              "      <td>28-12-2022</td>\n",
              "      <td>542347</td>\n",
              "      <td>3.536410e+13</td>\n",
              "      <td>2.530000e+20</td>\n",
              "      <td>3.202390e+11</td>\n",
              "      <td>0.0704</td>\n",
              "      <td>272781</td>\n",
              "      <td>107117.0</td>\n",
              "      <td>16640</td>\n",
              "    </tr>\n",
              "    <tr>\n",
              "      <th>1823</th>\n",
              "      <td>29-12-2022</td>\n",
              "      <td>692913</td>\n",
              "      <td>3.536410e+13</td>\n",
              "      <td>2.740000e+20</td>\n",
              "      <td>3.193230e+11</td>\n",
              "      <td>0.0545</td>\n",
              "      <td>265814</td>\n",
              "      <td>96225.0</td>\n",
              "      <td>16591</td>\n",
              "    </tr>\n",
              "    <tr>\n",
              "      <th>1824</th>\n",
              "      <td>30-12-2022</td>\n",
              "      <td>725552</td>\n",
              "      <td>3.536410e+13</td>\n",
              "      <td>2.540000e+20</td>\n",
              "      <td>3.185390e+11</td>\n",
              "      <td>0.0658</td>\n",
              "      <td>290857</td>\n",
              "      <td>97462.0</td>\n",
              "      <td>16550</td>\n",
              "    </tr>\n",
              "    <tr>\n",
              "      <th>1825</th>\n",
              "      <td>31-12-2022</td>\n",
              "      <td>573296</td>\n",
              "      <td>3.536410e+13</td>\n",
              "      <td>2.940000e+20</td>\n",
              "      <td>3.189440e+11</td>\n",
              "      <td>0.0557</td>\n",
              "      <td>242169</td>\n",
              "      <td>77382.0</td>\n",
              "      <td>16570</td>\n",
              "    </tr>\n",
              "  </tbody>\n",
              "</table>\n",
              "</div>\n",
              "    <div class=\"colab-df-buttons\">\n",
              "\n",
              "  <div class=\"colab-df-container\">\n",
              "    <button class=\"colab-df-convert\" onclick=\"convertToInteractive('df-2e2cc767-bb88-4ec6-8115-2644bd1d1ba2')\"\n",
              "            title=\"Convert this dataframe to an interactive table.\"\n",
              "            style=\"display:none;\">\n",
              "\n",
              "  <svg xmlns=\"http://www.w3.org/2000/svg\" height=\"24px\" viewBox=\"0 -960 960 960\">\n",
              "    <path d=\"M120-120v-720h720v720H120Zm60-500h600v-160H180v160Zm220 220h160v-160H400v160Zm0 220h160v-160H400v160ZM180-400h160v-160H180v160Zm440 0h160v-160H620v160ZM180-180h160v-160H180v160Zm440 0h160v-160H620v160Z\"/>\n",
              "  </svg>\n",
              "    </button>\n",
              "\n",
              "  <style>\n",
              "    .colab-df-container {\n",
              "      display:flex;\n",
              "      gap: 12px;\n",
              "    }\n",
              "\n",
              "    .colab-df-convert {\n",
              "      background-color: #E8F0FE;\n",
              "      border: none;\n",
              "      border-radius: 50%;\n",
              "      cursor: pointer;\n",
              "      display: none;\n",
              "      fill: #1967D2;\n",
              "      height: 32px;\n",
              "      padding: 0 0 0 0;\n",
              "      width: 32px;\n",
              "    }\n",
              "\n",
              "    .colab-df-convert:hover {\n",
              "      background-color: #E2EBFA;\n",
              "      box-shadow: 0px 1px 2px rgba(60, 64, 67, 0.3), 0px 1px 3px 1px rgba(60, 64, 67, 0.15);\n",
              "      fill: #174EA6;\n",
              "    }\n",
              "\n",
              "    .colab-df-buttons div {\n",
              "      margin-bottom: 4px;\n",
              "    }\n",
              "\n",
              "    [theme=dark] .colab-df-convert {\n",
              "      background-color: #3B4455;\n",
              "      fill: #D2E3FC;\n",
              "    }\n",
              "\n",
              "    [theme=dark] .colab-df-convert:hover {\n",
              "      background-color: #434B5C;\n",
              "      box-shadow: 0px 1px 3px 1px rgba(0, 0, 0, 0.15);\n",
              "      filter: drop-shadow(0px 1px 2px rgba(0, 0, 0, 0.3));\n",
              "      fill: #FFFFFF;\n",
              "    }\n",
              "  </style>\n",
              "\n",
              "    <script>\n",
              "      const buttonEl =\n",
              "        document.querySelector('#df-2e2cc767-bb88-4ec6-8115-2644bd1d1ba2 button.colab-df-convert');\n",
              "      buttonEl.style.display =\n",
              "        google.colab.kernel.accessAllowed ? 'block' : 'none';\n",
              "\n",
              "      async function convertToInteractive(key) {\n",
              "        const element = document.querySelector('#df-2e2cc767-bb88-4ec6-8115-2644bd1d1ba2');\n",
              "        const dataTable =\n",
              "          await google.colab.kernel.invokeFunction('convertToInteractive',\n",
              "                                                    [key], {});\n",
              "        if (!dataTable) return;\n",
              "\n",
              "        const docLinkHtml = 'Like what you see? Visit the ' +\n",
              "          '<a target=\"_blank\" href=https://colab.research.google.com/notebooks/data_table.ipynb>data table notebook</a>'\n",
              "          + ' to learn more about interactive tables.';\n",
              "        element.innerHTML = '';\n",
              "        dataTable['output_type'] = 'display_data';\n",
              "        await google.colab.output.renderOutput(dataTable, element);\n",
              "        const docLink = document.createElement('div');\n",
              "        docLink.innerHTML = docLinkHtml;\n",
              "        element.appendChild(docLink);\n",
              "      }\n",
              "    </script>\n",
              "  </div>\n",
              "\n",
              "\n",
              "<div id=\"df-3c1a0737-4fb2-4237-bc8a-72145fe743db\">\n",
              "  <button class=\"colab-df-quickchart\" onclick=\"quickchart('df-3c1a0737-4fb2-4237-bc8a-72145fe743db')\"\n",
              "            title=\"Suggest charts.\"\n",
              "            style=\"display:none;\">\n",
              "\n",
              "<svg xmlns=\"http://www.w3.org/2000/svg\" height=\"24px\"viewBox=\"0 0 24 24\"\n",
              "     width=\"24px\">\n",
              "    <g>\n",
              "        <path d=\"M19 3H5c-1.1 0-2 .9-2 2v14c0 1.1.9 2 2 2h14c1.1 0 2-.9 2-2V5c0-1.1-.9-2-2-2zM9 17H7v-7h2v7zm4 0h-2V7h2v10zm4 0h-2v-4h2v4z\"/>\n",
              "    </g>\n",
              "</svg>\n",
              "  </button>\n",
              "\n",
              "<style>\n",
              "  .colab-df-quickchart {\n",
              "    background-color: #E8F0FE;\n",
              "    border: none;\n",
              "    border-radius: 50%;\n",
              "    cursor: pointer;\n",
              "    display: none;\n",
              "    fill: #1967D2;\n",
              "    height: 32px;\n",
              "    padding: 0 0 0 0;\n",
              "    width: 32px;\n",
              "  }\n",
              "\n",
              "  .colab-df-quickchart:hover {\n",
              "    background-color: #E2EBFA;\n",
              "    box-shadow: 0px 1px 2px rgba(60, 64, 67, 0.3), 0px 1px 3px 1px rgba(60, 64, 67, 0.15);\n",
              "    fill: #174EA6;\n",
              "  }\n",
              "\n",
              "  [theme=dark] .colab-df-quickchart {\n",
              "    background-color: #3B4455;\n",
              "    fill: #D2E3FC;\n",
              "  }\n",
              "\n",
              "  [theme=dark] .colab-df-quickchart:hover {\n",
              "    background-color: #434B5C;\n",
              "    box-shadow: 0px 1px 3px 1px rgba(0, 0, 0, 0.15);\n",
              "    filter: drop-shadow(0px 1px 2px rgba(0, 0, 0, 0.3));\n",
              "    fill: #FFFFFF;\n",
              "  }\n",
              "</style>\n",
              "\n",
              "  <script>\n",
              "    async function quickchart(key) {\n",
              "      const charts = await google.colab.kernel.invokeFunction(\n",
              "          'suggestCharts', [key], {});\n",
              "    }\n",
              "    (() => {\n",
              "      let quickchartButtonEl =\n",
              "        document.querySelector('#df-3c1a0737-4fb2-4237-bc8a-72145fe743db button');\n",
              "      quickchartButtonEl.style.display =\n",
              "        google.colab.kernel.accessAllowed ? 'block' : 'none';\n",
              "    })();\n",
              "  </script>\n",
              "</div>\n",
              "    </div>\n",
              "  </div>\n"
            ]
          },
          "metadata": {},
          "execution_count": 5
        }
      ]
    },
    {
      "cell_type": "code",
      "source": [
        "df.isna().sum()"
      ],
      "metadata": {
        "colab": {
          "base_uri": "https://localhost:8080/"
        },
        "id": "6K-NlMAQwWR9",
        "outputId": "7303bcb9-2244-4901-e2c9-742228d76f4e"
      },
      "execution_count": 6,
      "outputs": [
        {
          "output_type": "execute_result",
          "data": {
            "text/plain": [
              "date                     0\n",
              "block_size               0\n",
              "difficulty               0\n",
              "hashrate                 0\n",
              "market_cap               0\n",
              "mining_profitability     0\n",
              "transaction              0\n",
              "tweets                  37\n",
              "price                    0\n",
              "dtype: int64"
            ]
          },
          "metadata": {},
          "execution_count": 6
        }
      ]
    },
    {
      "cell_type": "code",
      "source": [
        "df.dtypes"
      ],
      "metadata": {
        "colab": {
          "base_uri": "https://localhost:8080/"
        },
        "id": "9UsPwFCLwYcn",
        "outputId": "303d1333-6591-44c1-8efb-b51c9d5cbc90"
      },
      "execution_count": 7,
      "outputs": [
        {
          "output_type": "execute_result",
          "data": {
            "text/plain": [
              "date                     object\n",
              "block_size                int64\n",
              "difficulty              float64\n",
              "hashrate                float64\n",
              "market_cap              float64\n",
              "mining_profitability    float64\n",
              "transaction               int64\n",
              "tweets                  float64\n",
              "price                     int64\n",
              "dtype: object"
            ]
          },
          "metadata": {},
          "execution_count": 7
        }
      ]
    },
    {
      "cell_type": "code",
      "source": [
        "df.fillna(method='ffill', inplace=True)\n"
      ],
      "metadata": {
        "id": "Y6zDDSDnxHI1"
      },
      "execution_count": 8,
      "outputs": []
    },
    {
      "cell_type": "code",
      "source": [
        "df.isna().sum()"
      ],
      "metadata": {
        "colab": {
          "base_uri": "https://localhost:8080/"
        },
        "id": "N9IwALPcxLhj",
        "outputId": "c6c6f292-e240-4bad-ab7e-2ef0d7ba7bca"
      },
      "execution_count": 9,
      "outputs": [
        {
          "output_type": "execute_result",
          "data": {
            "text/plain": [
              "date                    0\n",
              "block_size              0\n",
              "difficulty              0\n",
              "hashrate                0\n",
              "market_cap              0\n",
              "mining_profitability    0\n",
              "transaction             0\n",
              "tweets                  0\n",
              "price                   0\n",
              "dtype: int64"
            ]
          },
          "metadata": {},
          "execution_count": 9
        }
      ]
    },
    {
      "cell_type": "code",
      "source": [
        "X = df[['tweets','market_cap','difficulty','hashrate','mining_profitability']]\n",
        "# Assuming 'Close' is the target variable\n",
        "y = df['price']"
      ],
      "metadata": {
        "id": "dq105wqhyTmi"
      },
      "execution_count": 10,
      "outputs": []
    },
    {
      "cell_type": "code",
      "source": [
        "scaler = StandardScaler()\n",
        "X_scaled = scaler.fit_transform(X)\n"
      ],
      "metadata": {
        "id": "He6KDkJ30aV_"
      },
      "execution_count": 11,
      "outputs": []
    },
    {
      "cell_type": "code",
      "source": [
        "X_train, X_temp, y_train, y_temp = train_test_split(X_scaled, y, test_size=0.4, random_state=42)\n",
        "X_val, X_test, y_val, y_test = train_test_split(X_temp, y_temp, test_size=0.5, random_state=42)\n"
      ],
      "metadata": {
        "id": "sMci2qqfzcDY"
      },
      "execution_count": 12,
      "outputs": []
    },
    {
      "cell_type": "markdown",
      "source": [
        "MODEL 1\n"
      ],
      "metadata": {
        "id": "2trqmbwhvlY8"
      }
    },
    {
      "cell_type": "code",
      "source": [
        "svm_model = SVR(kernel='linear', C=10, epsilon=0.1)\n"
      ],
      "metadata": {
        "id": "qIlN5pm3zeWl"
      },
      "execution_count": 13,
      "outputs": []
    },
    {
      "cell_type": "code",
      "source": [
        "bagging_model = BaggingRegressor(base_estimator=svm_model, n_estimators=10, random_state=42)\n",
        "bagging_model.fit(X_train, y_train)\n",
        "y_pred_bagging = bagging_model.predict(X_test)\n"
      ],
      "metadata": {
        "colab": {
          "base_uri": "https://localhost:8080/"
        },
        "id": "GVYUIFqovTZM",
        "outputId": "5c7a4629-08ea-48a3-f891-48dd2049d940"
      },
      "execution_count": 16,
      "outputs": [
        {
          "output_type": "stream",
          "name": "stderr",
          "text": [
            "/usr/local/lib/python3.10/dist-packages/sklearn/ensemble/_base.py:166: FutureWarning: `base_estimator` was renamed to `estimator` in version 1.2 and will be removed in 1.4.\n",
            "  warnings.warn(\n"
          ]
        }
      ]
    },
    {
      "cell_type": "code",
      "source": [
        "boosting_model = GradientBoostingRegressor(n_estimators=100, learning_rate=0.1, random_state=42)\n",
        "boosting_model.fit(X_train, y_train)\n",
        "y_pred_boosting = boosting_model.predict(X_test)"
      ],
      "metadata": {
        "id": "AaPcXwM_vdMJ"
      },
      "execution_count": 17,
      "outputs": []
    },
    {
      "cell_type": "code",
      "source": [
        "def print_metrics(y_true, y_pred, model_name):\n",
        "    mse = mean_squared_error(y_true, y_pred)\n",
        "    rmse = np.sqrt(mse)\n",
        "    mae = mean_absolute_error(y_true, y_pred)\n",
        "    mpe = np.mean((y_true - y_pred) / y_true) * 100\n",
        "    mape = np.mean(np.abs((y_true - y_pred) / y_true)) * 100\n",
        "    r2 = r2_score(y_true, y_pred)\n",
        "\n",
        "    print(f\"Metrics for {model_name}:\")\n",
        "    print(f\"MSE: {mse}\")\n",
        "    print(f\"RMSE: {rmse}\")\n",
        "    print(f\"MAE: {mae}\")\n",
        "    print(f\"MPE: {mpe}\")\n",
        "    print(f\"MAPE: {mape}\")\n",
        "    print(f\"R2 Score: {r2}\")\n",
        "    print()\n",
        "\n",
        "print_metrics(y_test, y_pred_bagging, \"Bagging\")\n",
        "print_metrics(y_test, y_pred_boosting, \"Boosting\")\n"
      ],
      "metadata": {
        "colab": {
          "base_uri": "https://localhost:8080/"
        },
        "id": "IT4iiA_itzc0",
        "outputId": "f1334b28-eedd-4545-eb97-92e9670a4f9b"
      },
      "execution_count": 18,
      "outputs": [
        {
          "output_type": "stream",
          "name": "stdout",
          "text": [
            "Metrics for Bagging:\n",
            "MSE: 77181230.1324766\n",
            "RMSE: 8785.284863479192\n",
            "MAE: 5215.295148234895\n",
            "MPE: 3.2077375454159034\n",
            "MAPE: 18.3675568988987\n",
            "R2 Score: 0.7494880486490871\n",
            "\n",
            "Metrics for Boosting:\n",
            "MSE: 40510.59080976042\n",
            "RMSE: 201.27242933337993\n",
            "MAE: 140.3891191303844\n",
            "MPE: -0.013372130131045106\n",
            "MAPE: 0.8749575621547281\n",
            "R2 Score: 0.9998685122388343\n",
            "\n"
          ]
        }
      ]
    },
    {
      "cell_type": "code",
      "source": [],
      "metadata": {
        "id": "JOW5iAQPwm02"
      },
      "execution_count": null,
      "outputs": []
    }
  ]
}